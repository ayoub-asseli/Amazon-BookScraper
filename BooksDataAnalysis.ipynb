{
 "cells": [
  {
   "cell_type": "markdown",
   "metadata": {},
   "source": [
    "## Partie 1 - Nettoyage et Formatage des données"
   ]
  },
  {
   "cell_type": "code",
   "execution_count": 94,
   "metadata": {},
   "outputs": [],
   "source": [
    "import pandas as pd"
   ]
  },
  {
   "cell_type": "markdown",
   "metadata": {},
   "source": [
    "### Nettoyage des données"
   ]
  },
  {
   "cell_type": "code",
   "execution_count": 95,
   "metadata": {},
   "outputs": [
    {
     "data": {
      "text/html": [
       "<div>\n",
       "<style scoped>\n",
       "    .dataframe tbody tr th:only-of-type {\n",
       "        vertical-align: middle;\n",
       "    }\n",
       "\n",
       "    .dataframe tbody tr th {\n",
       "        vertical-align: top;\n",
       "    }\n",
       "\n",
       "    .dataframe thead th {\n",
       "        text-align: right;\n",
       "    }\n",
       "</style>\n",
       "<table border=\"1\" class=\"dataframe\">\n",
       "  <thead>\n",
       "    <tr style=\"text-align: right;\">\n",
       "      <th></th>\n",
       "      <th>Unnamed: 0</th>\n",
       "      <th>Titres</th>\n",
       "      <th>[Formats, Prix]</th>\n",
       "      <th>Nombre de pages Format Broché</th>\n",
       "      <th>Taille du fichier Kindle</th>\n",
       "      <th>Nombre de pages Format Poche</th>\n",
       "      <th>Nombre de pages Format Relié</th>\n",
       "      <th>Dimensions Format Broché</th>\n",
       "      <th>Dimensions Format Poche</th>\n",
       "      <th>Dimensions Format Relié</th>\n",
       "      <th>Evaluations (sur 5)</th>\n",
       "      <th>Nombre d'évaluations</th>\n",
       "      <th>Liens</th>\n",
       "    </tr>\n",
       "  </thead>\n",
       "  <tbody>\n",
       "    <tr>\n",
       "      <th>0</th>\n",
       "      <td>0</td>\n",
       "      <td>Recettes minceur au Thermomix</td>\n",
       "      <td>['Broché 8,90']</td>\n",
       "      <td>191</td>\n",
       "      <td>None</td>\n",
       "      <td>None</td>\n",
       "      <td>None</td>\n",
       "      <td>19.2 x 1.8 x 20.1 cm</td>\n",
       "      <td>None</td>\n",
       "      <td>None</td>\n",
       "      <td>4,0</td>\n",
       "      <td>84</td>\n",
       "      <td>https://www.amazon.fr//Recettes-minceur-au-The...</td>\n",
       "    </tr>\n",
       "    <tr>\n",
       "      <th>1</th>\n",
       "      <td>1</td>\n",
       "      <td>Calendrier 365 recettes légères Marmiton - L'A...</td>\n",
       "      <td>['Broché 11,90']</td>\n",
       "      <td>2809658048</td>\n",
       "      <td>None</td>\n",
       "      <td>None</td>\n",
       "      <td>None</td>\n",
       "      <td>11 x 4.7 x 15 cm</td>\n",
       "      <td>None</td>\n",
       "      <td>None</td>\n",
       "      <td>4,2</td>\n",
       "      <td>30</td>\n",
       "      <td>https://www.amazon.fr//Ann%C3%A9e-Bloc-recette...</td>\n",
       "    </tr>\n",
       "    <tr>\n",
       "      <th>2</th>\n",
       "      <td>2</td>\n",
       "      <td>Recettes light inratables au robot cuiseur !</td>\n",
       "      <td>['Format Kindle 10,99', 'Relié 15,95']</td>\n",
       "      <td>None</td>\n",
       "      <td>67067 KB</td>\n",
       "      <td>None</td>\n",
       "      <td>208</td>\n",
       "      <td>None</td>\n",
       "      <td>None</td>\n",
       "      <td>20.2 x 2.8 x 26.7 cm</td>\n",
       "      <td>4,4</td>\n",
       "      <td>410</td>\n",
       "      <td>https://www.amazon.fr//Recettes-light-inratabl...</td>\n",
       "    </tr>\n",
       "    <tr>\n",
       "      <th>3</th>\n",
       "      <td>3</td>\n",
       "      <td>80 Recettes lights au Cookéo: Gardez la ligne ...</td>\n",
       "      <td>['Broché 9,89', 'Format Kindle 4,90']</td>\n",
       "      <td>88</td>\n",
       "      <td>: Illimité</td>\n",
       "      <td>None</td>\n",
       "      <td>None</td>\n",
       "      <td>15.24 x 0.56 x 22.86 cm</td>\n",
       "      <td>None</td>\n",
       "      <td>None</td>\n",
       "      <td>4,2</td>\n",
       "      <td>338</td>\n",
       "      <td>https://www.amazon.fr//Recettes-lights-Cook%C3...</td>\n",
       "    </tr>\n",
       "    <tr>\n",
       "      <th>4</th>\n",
       "      <td>4</td>\n",
       "      <td>Le grand livre de la cuisine saine et facile</td>\n",
       "      <td>['Broché 15,90']</td>\n",
       "      <td>178</td>\n",
       "      <td>None</td>\n",
       "      <td>None</td>\n",
       "      <td>None</td>\n",
       "      <td>22.4 x 1.2 x 19.3 cm</td>\n",
       "      <td>None</td>\n",
       "      <td>None</td>\n",
       "      <td>4,4</td>\n",
       "      <td>18</td>\n",
       "      <td>https://www.amazon.fr//grand-livre-cuisine-sai...</td>\n",
       "    </tr>\n",
       "  </tbody>\n",
       "</table>\n",
       "</div>"
      ],
      "text/plain": [
       "   Unnamed: 0                                             Titres  \\\n",
       "0           0                      Recettes minceur au Thermomix   \n",
       "1           1  Calendrier 365 recettes légères Marmiton - L'A...   \n",
       "2           2       Recettes light inratables au robot cuiseur !   \n",
       "3           3  80 Recettes lights au Cookéo: Gardez la ligne ...   \n",
       "4           4       Le grand livre de la cuisine saine et facile   \n",
       "\n",
       "                          [Formats, Prix] Nombre de pages Format Broché  \\\n",
       "0                         ['Broché 8,90']                           191   \n",
       "1                        ['Broché 11,90']                    2809658048   \n",
       "2  ['Format Kindle 10,99', 'Relié 15,95']                          None   \n",
       "3   ['Broché 9,89', 'Format Kindle 4,90']                            88   \n",
       "4                        ['Broché 15,90']                           178   \n",
       "\n",
       "  Taille du fichier Kindle Nombre de pages Format Poche  \\\n",
       "0                     None                         None   \n",
       "1                     None                         None   \n",
       "2                 67067 KB                         None   \n",
       "3               : Illimité                         None   \n",
       "4                     None                         None   \n",
       "\n",
       "  Nombre de pages Format Relié Dimensions Format Broché  \\\n",
       "0                         None     19.2 x 1.8 x 20.1 cm   \n",
       "1                         None         11 x 4.7 x 15 cm   \n",
       "2                          208                     None   \n",
       "3                         None  15.24 x 0.56 x 22.86 cm   \n",
       "4                         None     22.4 x 1.2 x 19.3 cm   \n",
       "\n",
       "  Dimensions Format Poche Dimensions Format Relié Evaluations (sur 5)  \\\n",
       "0                    None                    None                 4,0   \n",
       "1                    None                    None                 4,2   \n",
       "2                    None    20.2 x 2.8 x 26.7 cm                 4,4   \n",
       "3                    None                    None                 4,2   \n",
       "4                    None                    None                 4,4   \n",
       "\n",
       "  Nombre d'évaluations                                              Liens  \n",
       "0                   84  https://www.amazon.fr//Recettes-minceur-au-The...  \n",
       "1                   30  https://www.amazon.fr//Ann%C3%A9e-Bloc-recette...  \n",
       "2                  410  https://www.amazon.fr//Recettes-light-inratabl...  \n",
       "3                  338  https://www.amazon.fr//Recettes-lights-Cook%C3...  \n",
       "4                   18  https://www.amazon.fr//grand-livre-cuisine-sai...  "
      ]
     },
     "execution_count": 95,
     "metadata": {},
     "output_type": "execute_result"
    }
   ],
   "source": [
    "books = pd.read_csv('makers_project1.csv')\n",
    "books.head()"
   ]
  },
  {
   "cell_type": "code",
   "execution_count": 96,
   "metadata": {},
   "outputs": [
    {
     "data": {
      "text/html": [
       "<div>\n",
       "<style scoped>\n",
       "    .dataframe tbody tr th:only-of-type {\n",
       "        vertical-align: middle;\n",
       "    }\n",
       "\n",
       "    .dataframe tbody tr th {\n",
       "        vertical-align: top;\n",
       "    }\n",
       "\n",
       "    .dataframe thead th {\n",
       "        text-align: right;\n",
       "    }\n",
       "</style>\n",
       "<table border=\"1\" class=\"dataframe\">\n",
       "  <thead>\n",
       "    <tr style=\"text-align: right;\">\n",
       "      <th></th>\n",
       "      <th>Titres</th>\n",
       "      <th>[Formats, Prix]</th>\n",
       "      <th>Nombre de pages Format Broché</th>\n",
       "      <th>Nombre de pages Format Poche</th>\n",
       "      <th>Nombre de pages Format Relié</th>\n",
       "      <th>Dimensions Format Broché</th>\n",
       "      <th>Dimensions Format Poche</th>\n",
       "      <th>Dimensions Format Relié</th>\n",
       "      <th>Evaluations (sur 5)</th>\n",
       "      <th>Nombre d'évaluations</th>\n",
       "      <th>Liens</th>\n",
       "    </tr>\n",
       "  </thead>\n",
       "  <tbody>\n",
       "    <tr>\n",
       "      <th>0</th>\n",
       "      <td>Recettes minceur au Thermomix</td>\n",
       "      <td>['Broché 8,90']</td>\n",
       "      <td>191</td>\n",
       "      <td>None</td>\n",
       "      <td>None</td>\n",
       "      <td>19.2 x 1.8 x 20.1 cm</td>\n",
       "      <td>None</td>\n",
       "      <td>None</td>\n",
       "      <td>4,0</td>\n",
       "      <td>84</td>\n",
       "      <td>https://www.amazon.fr//Recettes-minceur-au-The...</td>\n",
       "    </tr>\n",
       "    <tr>\n",
       "      <th>1</th>\n",
       "      <td>Calendrier 365 recettes légères Marmiton - L'A...</td>\n",
       "      <td>['Broché 11,90']</td>\n",
       "      <td>2809658048</td>\n",
       "      <td>None</td>\n",
       "      <td>None</td>\n",
       "      <td>11 x 4.7 x 15 cm</td>\n",
       "      <td>None</td>\n",
       "      <td>None</td>\n",
       "      <td>4,2</td>\n",
       "      <td>30</td>\n",
       "      <td>https://www.amazon.fr//Ann%C3%A9e-Bloc-recette...</td>\n",
       "    </tr>\n",
       "    <tr>\n",
       "      <th>2</th>\n",
       "      <td>Recettes light inratables au robot cuiseur !</td>\n",
       "      <td>['Format Kindle 10,99', 'Relié 15,95']</td>\n",
       "      <td>None</td>\n",
       "      <td>None</td>\n",
       "      <td>208</td>\n",
       "      <td>None</td>\n",
       "      <td>None</td>\n",
       "      <td>20.2 x 2.8 x 26.7 cm</td>\n",
       "      <td>4,4</td>\n",
       "      <td>410</td>\n",
       "      <td>https://www.amazon.fr//Recettes-light-inratabl...</td>\n",
       "    </tr>\n",
       "    <tr>\n",
       "      <th>3</th>\n",
       "      <td>80 Recettes lights au Cookéo: Gardez la ligne ...</td>\n",
       "      <td>['Broché 9,89', 'Format Kindle 4,90']</td>\n",
       "      <td>88</td>\n",
       "      <td>None</td>\n",
       "      <td>None</td>\n",
       "      <td>15.24 x 0.56 x 22.86 cm</td>\n",
       "      <td>None</td>\n",
       "      <td>None</td>\n",
       "      <td>4,2</td>\n",
       "      <td>338</td>\n",
       "      <td>https://www.amazon.fr//Recettes-lights-Cook%C3...</td>\n",
       "    </tr>\n",
       "    <tr>\n",
       "      <th>4</th>\n",
       "      <td>Le grand livre de la cuisine saine et facile</td>\n",
       "      <td>['Broché 15,90']</td>\n",
       "      <td>178</td>\n",
       "      <td>None</td>\n",
       "      <td>None</td>\n",
       "      <td>22.4 x 1.2 x 19.3 cm</td>\n",
       "      <td>None</td>\n",
       "      <td>None</td>\n",
       "      <td>4,4</td>\n",
       "      <td>18</td>\n",
       "      <td>https://www.amazon.fr//grand-livre-cuisine-sai...</td>\n",
       "    </tr>\n",
       "  </tbody>\n",
       "</table>\n",
       "</div>"
      ],
      "text/plain": [
       "                                              Titres  \\\n",
       "0                      Recettes minceur au Thermomix   \n",
       "1  Calendrier 365 recettes légères Marmiton - L'A...   \n",
       "2       Recettes light inratables au robot cuiseur !   \n",
       "3  80 Recettes lights au Cookéo: Gardez la ligne ...   \n",
       "4       Le grand livre de la cuisine saine et facile   \n",
       "\n",
       "                          [Formats, Prix] Nombre de pages Format Broché  \\\n",
       "0                         ['Broché 8,90']                           191   \n",
       "1                        ['Broché 11,90']                    2809658048   \n",
       "2  ['Format Kindle 10,99', 'Relié 15,95']                          None   \n",
       "3   ['Broché 9,89', 'Format Kindle 4,90']                            88   \n",
       "4                        ['Broché 15,90']                           178   \n",
       "\n",
       "  Nombre de pages Format Poche Nombre de pages Format Relié  \\\n",
       "0                         None                         None   \n",
       "1                         None                         None   \n",
       "2                         None                          208   \n",
       "3                         None                         None   \n",
       "4                         None                         None   \n",
       "\n",
       "  Dimensions Format Broché Dimensions Format Poche Dimensions Format Relié  \\\n",
       "0     19.2 x 1.8 x 20.1 cm                    None                    None   \n",
       "1         11 x 4.7 x 15 cm                    None                    None   \n",
       "2                     None                    None    20.2 x 2.8 x 26.7 cm   \n",
       "3  15.24 x 0.56 x 22.86 cm                    None                    None   \n",
       "4     22.4 x 1.2 x 19.3 cm                    None                    None   \n",
       "\n",
       "  Evaluations (sur 5) Nombre d'évaluations  \\\n",
       "0                 4,0                   84   \n",
       "1                 4,2                   30   \n",
       "2                 4,4                  410   \n",
       "3                 4,2                  338   \n",
       "4                 4,4                   18   \n",
       "\n",
       "                                               Liens  \n",
       "0  https://www.amazon.fr//Recettes-minceur-au-The...  \n",
       "1  https://www.amazon.fr//Ann%C3%A9e-Bloc-recette...  \n",
       "2  https://www.amazon.fr//Recettes-light-inratabl...  \n",
       "3  https://www.amazon.fr//Recettes-lights-Cook%C3...  \n",
       "4  https://www.amazon.fr//grand-livre-cuisine-sai...  "
      ]
     },
     "execution_count": 96,
     "metadata": {},
     "output_type": "execute_result"
    }
   ],
   "source": [
    "books_v1 = books.copy()\n",
    "del books_v1['Unnamed: 0']\n",
    "del books_v1['Taille du fichier Kindle']\n",
    "books_v1.head()"
   ]
  },
  {
   "cell_type": "code",
   "execution_count": 97,
   "metadata": {},
   "outputs": [
    {
     "name": "stdout",
     "output_type": "stream",
     "text": [
      "Nombre de lignes = 309\n"
     ]
    }
   ],
   "source": [
    "#Taille du tableau\n",
    "taille = books_v1.shape\n",
    "print('Nombre de lignes =', taille[0])"
   ]
  },
  {
   "cell_type": "code",
   "execution_count": 98,
   "metadata": {},
   "outputs": [
    {
     "name": "stderr",
     "output_type": "stream",
     "text": [
      "<ipython-input-98-13668e6a99ef>:4: UserWarning: Boolean Series key will be reindexed to match DataFrame index.\n",
      "  index_names = books_v1[ books['Titres'] == titre ].index\n"
     ]
    }
   ],
   "source": [
    "#Nous allons ici supprimer les livres en doublons\n",
    "titres = books_v1['Titres']\n",
    "for titre in titres:\n",
    "    index_names = books_v1[ books['Titres'] == titre ].index\n",
    "    books_v1.drop(index_names[1:], inplace=True)"
   ]
  },
  {
   "cell_type": "code",
   "execution_count": 99,
   "metadata": {},
   "outputs": [
    {
     "name": "stdout",
     "output_type": "stream",
     "text": [
      "Nombre de lignes = 185\n"
     ]
    }
   ],
   "source": [
    "# Taille du tableau après élimination des doublons\n",
    "taille = books_v1.shape\n",
    "print('Nombre de lignes =', taille[0])"
   ]
  },
  {
   "cell_type": "markdown",
   "metadata": {},
   "source": [
    "### Formatage des données"
   ]
  },
  {
   "cell_type": "code",
   "execution_count": 100,
   "metadata": {},
   "outputs": [],
   "source": [
    "# Dans la colonne '[Formats, Prix]', nous allons changer le format 'Fotmat Kindle' en 'Kindle'\n",
    "formats_prix = books_v1['[Formats, Prix]']\n",
    "res = []\n",
    "ch = ''\n",
    "for formats in formats_prix:\n",
    "    if 'Kindle' in formats:\n",
    "        ch = formats.replace('Format ', '')\n",
    "        res.append(ch)\n",
    "    else:\n",
    "        res.append(formats)"
   ]
  },
  {
   "cell_type": "code",
   "execution_count": 101,
   "metadata": {},
   "outputs": [
    {
     "data": {
      "text/html": [
       "<div>\n",
       "<style scoped>\n",
       "    .dataframe tbody tr th:only-of-type {\n",
       "        vertical-align: middle;\n",
       "    }\n",
       "\n",
       "    .dataframe tbody tr th {\n",
       "        vertical-align: top;\n",
       "    }\n",
       "\n",
       "    .dataframe thead th {\n",
       "        text-align: right;\n",
       "    }\n",
       "</style>\n",
       "<table border=\"1\" class=\"dataframe\">\n",
       "  <thead>\n",
       "    <tr style=\"text-align: right;\">\n",
       "      <th></th>\n",
       "      <th>Titres</th>\n",
       "      <th>Format/Prix</th>\n",
       "      <th>Nombre de pages Format Broché</th>\n",
       "      <th>Nombre de pages Format Poche</th>\n",
       "      <th>Nombre de pages Format Relié</th>\n",
       "      <th>Dimensions Format Broché</th>\n",
       "      <th>Dimensions Format Poche</th>\n",
       "      <th>Dimensions Format Relié</th>\n",
       "      <th>Evaluations (sur 5)</th>\n",
       "      <th>Nombre d'évaluations</th>\n",
       "      <th>Liens</th>\n",
       "    </tr>\n",
       "  </thead>\n",
       "  <tbody>\n",
       "    <tr>\n",
       "      <th>0</th>\n",
       "      <td>Recettes minceur au Thermomix</td>\n",
       "      <td>['Broché 8,90']</td>\n",
       "      <td>191</td>\n",
       "      <td>None</td>\n",
       "      <td>None</td>\n",
       "      <td>19.2 x 1.8 x 20.1 cm</td>\n",
       "      <td>None</td>\n",
       "      <td>None</td>\n",
       "      <td>4,0</td>\n",
       "      <td>84</td>\n",
       "      <td>https://www.amazon.fr//Recettes-minceur-au-The...</td>\n",
       "    </tr>\n",
       "    <tr>\n",
       "      <th>1</th>\n",
       "      <td>Calendrier 365 recettes légères Marmiton - L'A...</td>\n",
       "      <td>['Broché 11,90']</td>\n",
       "      <td>2809658048</td>\n",
       "      <td>None</td>\n",
       "      <td>None</td>\n",
       "      <td>11 x 4.7 x 15 cm</td>\n",
       "      <td>None</td>\n",
       "      <td>None</td>\n",
       "      <td>4,2</td>\n",
       "      <td>30</td>\n",
       "      <td>https://www.amazon.fr//Ann%C3%A9e-Bloc-recette...</td>\n",
       "    </tr>\n",
       "    <tr>\n",
       "      <th>2</th>\n",
       "      <td>Recettes light inratables au robot cuiseur !</td>\n",
       "      <td>['Kindle 10,99', 'Relié 15,95']</td>\n",
       "      <td>None</td>\n",
       "      <td>None</td>\n",
       "      <td>208</td>\n",
       "      <td>None</td>\n",
       "      <td>None</td>\n",
       "      <td>20.2 x 2.8 x 26.7 cm</td>\n",
       "      <td>4,4</td>\n",
       "      <td>410</td>\n",
       "      <td>https://www.amazon.fr//Recettes-light-inratabl...</td>\n",
       "    </tr>\n",
       "    <tr>\n",
       "      <th>3</th>\n",
       "      <td>80 Recettes lights au Cookéo: Gardez la ligne ...</td>\n",
       "      <td>['Broché 9,89', 'Kindle 4,90']</td>\n",
       "      <td>88</td>\n",
       "      <td>None</td>\n",
       "      <td>None</td>\n",
       "      <td>15.24 x 0.56 x 22.86 cm</td>\n",
       "      <td>None</td>\n",
       "      <td>None</td>\n",
       "      <td>4,2</td>\n",
       "      <td>338</td>\n",
       "      <td>https://www.amazon.fr//Recettes-lights-Cook%C3...</td>\n",
       "    </tr>\n",
       "    <tr>\n",
       "      <th>4</th>\n",
       "      <td>Le grand livre de la cuisine saine et facile</td>\n",
       "      <td>['Broché 15,90']</td>\n",
       "      <td>178</td>\n",
       "      <td>None</td>\n",
       "      <td>None</td>\n",
       "      <td>22.4 x 1.2 x 19.3 cm</td>\n",
       "      <td>None</td>\n",
       "      <td>None</td>\n",
       "      <td>4,4</td>\n",
       "      <td>18</td>\n",
       "      <td>https://www.amazon.fr//grand-livre-cuisine-sai...</td>\n",
       "    </tr>\n",
       "    <tr>\n",
       "      <th>...</th>\n",
       "      <td>...</td>\n",
       "      <td>...</td>\n",
       "      <td>...</td>\n",
       "      <td>...</td>\n",
       "      <td>...</td>\n",
       "      <td>...</td>\n",
       "      <td>...</td>\n",
       "      <td>...</td>\n",
       "      <td>...</td>\n",
       "      <td>...</td>\n",
       "      <td>...</td>\n",
       "    </tr>\n",
       "    <tr>\n",
       "      <th>180</th>\n",
       "      <td>Jeûne Intermittent et Régime Cétogène: 2 livre...</td>\n",
       "      <td>['Broché 7,99', 'Kindle 3,99']</td>\n",
       "      <td>94</td>\n",
       "      <td>None</td>\n",
       "      <td>None</td>\n",
       "      <td>20.32 x 0.56 x 25.4 cm</td>\n",
       "      <td>None</td>\n",
       "      <td>None</td>\n",
       "      <td>3,8</td>\n",
       "      <td>89</td>\n",
       "      <td>https://www.amazon.fr//Je%C3%BBne-Intermittent...</td>\n",
       "    </tr>\n",
       "    <tr>\n",
       "      <th>181</th>\n",
       "      <td>Mon journal de suivi minceur: Cahier de suivi ...</td>\n",
       "      <td>['Broché 7,99']</td>\n",
       "      <td>100</td>\n",
       "      <td>None</td>\n",
       "      <td>None</td>\n",
       "      <td>21.59 x 0.58 x 27.94 cm</td>\n",
       "      <td>None</td>\n",
       "      <td>None</td>\n",
       "      <td>5,0</td>\n",
       "      <td>4</td>\n",
       "      <td>https://www.amazon.fr//Mon-journal-suivi-mince...</td>\n",
       "    </tr>\n",
       "    <tr>\n",
       "      <th>182</th>\n",
       "      <td>Recettes minceur - Tous en cuisine !</td>\n",
       "      <td>['Broché 4,99']</td>\n",
       "      <td>192</td>\n",
       "      <td>None</td>\n",
       "      <td>None</td>\n",
       "      <td>None</td>\n",
       "      <td>None</td>\n",
       "      <td>None</td>\n",
       "      <td>4,2</td>\n",
       "      <td>3</td>\n",
       "      <td>https://www.amazon.fr//Recettes-minceur-Tous-e...</td>\n",
       "    </tr>\n",
       "    <tr>\n",
       "      <th>183</th>\n",
       "      <td>Deliciously Ella : ma cuisine express pour man...</td>\n",
       "      <td>['Broché 19,90']</td>\n",
       "      <td>272</td>\n",
       "      <td>None</td>\n",
       "      <td>None</td>\n",
       "      <td>18.7 x 2.4 x 23 cm</td>\n",
       "      <td>None</td>\n",
       "      <td>None</td>\n",
       "      <td>4,5</td>\n",
       "      <td>2</td>\n",
       "      <td>https://www.amazon.fr//Deliciously-Ella-quotid...</td>\n",
       "    </tr>\n",
       "    <tr>\n",
       "      <th>184</th>\n",
       "      <td>cahier minceur: cahier minceur pour 90 jours s...</td>\n",
       "      <td>['Broché 5,99']</td>\n",
       "      <td>None</td>\n",
       "      <td>None</td>\n",
       "      <td>None</td>\n",
       "      <td>None</td>\n",
       "      <td>None</td>\n",
       "      <td>None</td>\n",
       "      <td>None</td>\n",
       "      <td>None</td>\n",
       "      <td>https://www.amazon.fr//cahier-minceur-reequili...</td>\n",
       "    </tr>\n",
       "  </tbody>\n",
       "</table>\n",
       "<p>185 rows × 11 columns</p>\n",
       "</div>"
      ],
      "text/plain": [
       "                                                Titres  \\\n",
       "0                        Recettes minceur au Thermomix   \n",
       "1    Calendrier 365 recettes légères Marmiton - L'A...   \n",
       "2         Recettes light inratables au robot cuiseur !   \n",
       "3    80 Recettes lights au Cookéo: Gardez la ligne ...   \n",
       "4         Le grand livre de la cuisine saine et facile   \n",
       "..                                                 ...   \n",
       "180  Jeûne Intermittent et Régime Cétogène: 2 livre...   \n",
       "181  Mon journal de suivi minceur: Cahier de suivi ...   \n",
       "182               Recettes minceur - Tous en cuisine !   \n",
       "183  Deliciously Ella : ma cuisine express pour man...   \n",
       "184  cahier minceur: cahier minceur pour 90 jours s...   \n",
       "\n",
       "                         Format/Prix Nombre de pages Format Broché  \\\n",
       "0                    ['Broché 8,90']                           191   \n",
       "1                   ['Broché 11,90']                    2809658048   \n",
       "2    ['Kindle 10,99', 'Relié 15,95']                          None   \n",
       "3     ['Broché 9,89', 'Kindle 4,90']                            88   \n",
       "4                   ['Broché 15,90']                           178   \n",
       "..                               ...                           ...   \n",
       "180   ['Broché 7,99', 'Kindle 3,99']                            94   \n",
       "181                  ['Broché 7,99']                           100   \n",
       "182                  ['Broché 4,99']                           192   \n",
       "183                 ['Broché 19,90']                           272   \n",
       "184                  ['Broché 5,99']                          None   \n",
       "\n",
       "    Nombre de pages Format Poche Nombre de pages Format Relié  \\\n",
       "0                           None                         None   \n",
       "1                           None                         None   \n",
       "2                           None                          208   \n",
       "3                           None                         None   \n",
       "4                           None                         None   \n",
       "..                           ...                          ...   \n",
       "180                         None                         None   \n",
       "181                         None                         None   \n",
       "182                         None                         None   \n",
       "183                         None                         None   \n",
       "184                         None                         None   \n",
       "\n",
       "    Dimensions Format Broché Dimensions Format Poche Dimensions Format Relié  \\\n",
       "0       19.2 x 1.8 x 20.1 cm                    None                    None   \n",
       "1           11 x 4.7 x 15 cm                    None                    None   \n",
       "2                       None                    None    20.2 x 2.8 x 26.7 cm   \n",
       "3    15.24 x 0.56 x 22.86 cm                    None                    None   \n",
       "4       22.4 x 1.2 x 19.3 cm                    None                    None   \n",
       "..                       ...                     ...                     ...   \n",
       "180   20.32 x 0.56 x 25.4 cm                    None                    None   \n",
       "181  21.59 x 0.58 x 27.94 cm                    None                    None   \n",
       "182                     None                    None                    None   \n",
       "183       18.7 x 2.4 x 23 cm                    None                    None   \n",
       "184                     None                    None                    None   \n",
       "\n",
       "    Evaluations (sur 5) Nombre d'évaluations  \\\n",
       "0                   4,0                   84   \n",
       "1                   4,2                   30   \n",
       "2                   4,4                  410   \n",
       "3                   4,2                  338   \n",
       "4                   4,4                   18   \n",
       "..                  ...                  ...   \n",
       "180                 3,8                   89   \n",
       "181                 5,0                    4   \n",
       "182                 4,2                    3   \n",
       "183                 4,5                    2   \n",
       "184                None                 None   \n",
       "\n",
       "                                                 Liens  \n",
       "0    https://www.amazon.fr//Recettes-minceur-au-The...  \n",
       "1    https://www.amazon.fr//Ann%C3%A9e-Bloc-recette...  \n",
       "2    https://www.amazon.fr//Recettes-light-inratabl...  \n",
       "3    https://www.amazon.fr//Recettes-lights-Cook%C3...  \n",
       "4    https://www.amazon.fr//grand-livre-cuisine-sai...  \n",
       "..                                                 ...  \n",
       "180  https://www.amazon.fr//Je%C3%BBne-Intermittent...  \n",
       "181  https://www.amazon.fr//Mon-journal-suivi-mince...  \n",
       "182  https://www.amazon.fr//Recettes-minceur-Tous-e...  \n",
       "183  https://www.amazon.fr//Deliciously-Ella-quotid...  \n",
       "184  https://www.amazon.fr//cahier-minceur-reequili...  \n",
       "\n",
       "[185 rows x 11 columns]"
      ]
     },
     "execution_count": 101,
     "metadata": {},
     "output_type": "execute_result"
    }
   ],
   "source": [
    "#Remplaçons la colonne '[Formats, Prix]' par la liste juste ci-dessus\n",
    "books_v1.insert(2, \"Format/Prix\", res)\n",
    "del books_v1['[Formats, Prix]']\n",
    "books_v1 = books_v1.reset_index()\n",
    "del books_v1['index']\n",
    "books_v1"
   ]
  },
  {
   "cell_type": "code",
   "execution_count": 102,
   "metadata": {},
   "outputs": [
    {
     "data": {
      "text/html": [
       "<div>\n",
       "<style scoped>\n",
       "    .dataframe tbody tr th:only-of-type {\n",
       "        vertical-align: middle;\n",
       "    }\n",
       "\n",
       "    .dataframe tbody tr th {\n",
       "        vertical-align: top;\n",
       "    }\n",
       "\n",
       "    .dataframe thead th {\n",
       "        text-align: right;\n",
       "    }\n",
       "</style>\n",
       "<table border=\"1\" class=\"dataframe\">\n",
       "  <thead>\n",
       "    <tr style=\"text-align: right;\">\n",
       "      <th></th>\n",
       "      <th>Prix Broché</th>\n",
       "      <th>Prix Kindle</th>\n",
       "      <th>Prix Poche</th>\n",
       "      <th>Prix Relié</th>\n",
       "    </tr>\n",
       "  </thead>\n",
       "  <tbody>\n",
       "    <tr>\n",
       "      <th>0</th>\n",
       "      <td>8,90</td>\n",
       "      <td>None</td>\n",
       "      <td>None</td>\n",
       "      <td>None</td>\n",
       "    </tr>\n",
       "    <tr>\n",
       "      <th>1</th>\n",
       "      <td>11,90</td>\n",
       "      <td>None</td>\n",
       "      <td>None</td>\n",
       "      <td>None</td>\n",
       "    </tr>\n",
       "    <tr>\n",
       "      <th>2</th>\n",
       "      <td>None</td>\n",
       "      <td>10,99</td>\n",
       "      <td>None</td>\n",
       "      <td>15,95</td>\n",
       "    </tr>\n",
       "    <tr>\n",
       "      <th>3</th>\n",
       "      <td>9,89</td>\n",
       "      <td>4,90</td>\n",
       "      <td>None</td>\n",
       "      <td>None</td>\n",
       "    </tr>\n",
       "    <tr>\n",
       "      <th>4</th>\n",
       "      <td>15,90</td>\n",
       "      <td>None</td>\n",
       "      <td>None</td>\n",
       "      <td>None</td>\n",
       "    </tr>\n",
       "    <tr>\n",
       "      <th>...</th>\n",
       "      <td>...</td>\n",
       "      <td>...</td>\n",
       "      <td>...</td>\n",
       "      <td>...</td>\n",
       "    </tr>\n",
       "    <tr>\n",
       "      <th>180</th>\n",
       "      <td>7,99</td>\n",
       "      <td>3,99</td>\n",
       "      <td>None</td>\n",
       "      <td>None</td>\n",
       "    </tr>\n",
       "    <tr>\n",
       "      <th>181</th>\n",
       "      <td>7,99</td>\n",
       "      <td>None</td>\n",
       "      <td>None</td>\n",
       "      <td>None</td>\n",
       "    </tr>\n",
       "    <tr>\n",
       "      <th>182</th>\n",
       "      <td>4,99</td>\n",
       "      <td>None</td>\n",
       "      <td>None</td>\n",
       "      <td>None</td>\n",
       "    </tr>\n",
       "    <tr>\n",
       "      <th>183</th>\n",
       "      <td>19,90</td>\n",
       "      <td>None</td>\n",
       "      <td>None</td>\n",
       "      <td>None</td>\n",
       "    </tr>\n",
       "    <tr>\n",
       "      <th>184</th>\n",
       "      <td>5,99</td>\n",
       "      <td>None</td>\n",
       "      <td>None</td>\n",
       "      <td>None</td>\n",
       "    </tr>\n",
       "  </tbody>\n",
       "</table>\n",
       "<p>185 rows × 4 columns</p>\n",
       "</div>"
      ],
      "text/plain": [
       "    Prix Broché Prix Kindle Prix Poche Prix Relié\n",
       "0          8,90        None       None       None\n",
       "1         11,90        None       None       None\n",
       "2          None       10,99       None      15,95\n",
       "3          9,89        4,90       None       None\n",
       "4         15,90        None       None       None\n",
       "..          ...         ...        ...        ...\n",
       "180        7,99        3,99       None       None\n",
       "181        7,99        None       None       None\n",
       "182        4,99        None       None       None\n",
       "183       19,90        None       None       None\n",
       "184        5,99        None       None       None\n",
       "\n",
       "[185 rows x 4 columns]"
      ]
     },
     "execution_count": 102,
     "metadata": {},
     "output_type": "execute_result"
    }
   ],
   "source": [
    "# Nous allons désormais nous occuper de la colonne '[Formats, Prix]'\n",
    "# Je souhaiterais la scinder en trois colonnes correspondant aux quatres formats (Broché, Kindle, Poche, Relié)\n",
    "import ast\n",
    "dict_formats = {\n",
    "    'Broché': 'None',\n",
    "    'Kindle': 'None',\n",
    "    'Poche': 'None',\n",
    "    'Relié': 'None'\n",
    "}   \n",
    "formats_prix = books_v1['Format/Prix']\n",
    "res = []\n",
    "for formats in formats_prix:\n",
    "    my_dict = dict_formats.copy()\n",
    "    elems = ast.literal_eval(formats)\n",
    "    for elem in elems:\n",
    "        l = elem.split()\n",
    "        format_ = l[0]\n",
    "        prix = l[1]\n",
    "        if format_ in dict_formats.keys():\n",
    "            my_dict.update({format_: prix})\n",
    "    prix = list(my_dict.values())\n",
    "    res.append(prix)\n",
    "res\n",
    "prix = pd.DataFrame(res, columns = ['Prix Broché', 'Prix Kindle', 'Prix Poche', 'Prix Relié'])\n",
    "prix"
   ]
  },
  {
   "cell_type": "code",
   "execution_count": 103,
   "metadata": {},
   "outputs": [
    {
     "name": "stdout",
     "output_type": "stream",
     "text": [
      "185\n"
     ]
    }
   ],
   "source": [
    "index_books_v1 = list(books_v1.index)\n",
    "print(len(index_books_v1))"
   ]
  },
  {
   "cell_type": "code",
   "execution_count": 104,
   "metadata": {},
   "outputs": [
    {
     "data": {
      "text/html": [
       "<div>\n",
       "<style scoped>\n",
       "    .dataframe tbody tr th:only-of-type {\n",
       "        vertical-align: middle;\n",
       "    }\n",
       "\n",
       "    .dataframe tbody tr th {\n",
       "        vertical-align: top;\n",
       "    }\n",
       "\n",
       "    .dataframe thead th {\n",
       "        text-align: right;\n",
       "    }\n",
       "</style>\n",
       "<table border=\"1\" class=\"dataframe\">\n",
       "  <thead>\n",
       "    <tr style=\"text-align: right;\">\n",
       "      <th></th>\n",
       "      <th>Titres</th>\n",
       "      <th>Prix Broché</th>\n",
       "      <th>Prix Kindle</th>\n",
       "      <th>Prix Poche</th>\n",
       "      <th>Prix Relié</th>\n",
       "      <th>Nombre de pages Format Broché</th>\n",
       "      <th>Nombre de pages Format Poche</th>\n",
       "      <th>Nombre de pages Format Relié</th>\n",
       "      <th>Dimensions Format Broché</th>\n",
       "      <th>Dimensions Format Poche</th>\n",
       "      <th>Dimensions Format Relié</th>\n",
       "      <th>Evaluations (sur 5)</th>\n",
       "      <th>Nombre d'évaluations</th>\n",
       "      <th>Liens</th>\n",
       "    </tr>\n",
       "  </thead>\n",
       "  <tbody>\n",
       "    <tr>\n",
       "      <th>0</th>\n",
       "      <td>Recettes minceur au Thermomix</td>\n",
       "      <td>8,90</td>\n",
       "      <td>None</td>\n",
       "      <td>None</td>\n",
       "      <td>None</td>\n",
       "      <td>191</td>\n",
       "      <td>None</td>\n",
       "      <td>None</td>\n",
       "      <td>19.2 x 1.8 x 20.1 cm</td>\n",
       "      <td>None</td>\n",
       "      <td>None</td>\n",
       "      <td>4,0</td>\n",
       "      <td>84</td>\n",
       "      <td>https://www.amazon.fr//Recettes-minceur-au-The...</td>\n",
       "    </tr>\n",
       "    <tr>\n",
       "      <th>1</th>\n",
       "      <td>Calendrier 365 recettes légères Marmiton - L'A...</td>\n",
       "      <td>11,90</td>\n",
       "      <td>None</td>\n",
       "      <td>None</td>\n",
       "      <td>None</td>\n",
       "      <td>2809658048</td>\n",
       "      <td>None</td>\n",
       "      <td>None</td>\n",
       "      <td>11 x 4.7 x 15 cm</td>\n",
       "      <td>None</td>\n",
       "      <td>None</td>\n",
       "      <td>4,2</td>\n",
       "      <td>30</td>\n",
       "      <td>https://www.amazon.fr//Ann%C3%A9e-Bloc-recette...</td>\n",
       "    </tr>\n",
       "    <tr>\n",
       "      <th>2</th>\n",
       "      <td>Recettes light inratables au robot cuiseur !</td>\n",
       "      <td>None</td>\n",
       "      <td>10,99</td>\n",
       "      <td>None</td>\n",
       "      <td>15,95</td>\n",
       "      <td>None</td>\n",
       "      <td>None</td>\n",
       "      <td>208</td>\n",
       "      <td>None</td>\n",
       "      <td>None</td>\n",
       "      <td>20.2 x 2.8 x 26.7 cm</td>\n",
       "      <td>4,4</td>\n",
       "      <td>410</td>\n",
       "      <td>https://www.amazon.fr//Recettes-light-inratabl...</td>\n",
       "    </tr>\n",
       "    <tr>\n",
       "      <th>3</th>\n",
       "      <td>80 Recettes lights au Cookéo: Gardez la ligne ...</td>\n",
       "      <td>9,89</td>\n",
       "      <td>4,90</td>\n",
       "      <td>None</td>\n",
       "      <td>None</td>\n",
       "      <td>88</td>\n",
       "      <td>None</td>\n",
       "      <td>None</td>\n",
       "      <td>15.24 x 0.56 x 22.86 cm</td>\n",
       "      <td>None</td>\n",
       "      <td>None</td>\n",
       "      <td>4,2</td>\n",
       "      <td>338</td>\n",
       "      <td>https://www.amazon.fr//Recettes-lights-Cook%C3...</td>\n",
       "    </tr>\n",
       "    <tr>\n",
       "      <th>4</th>\n",
       "      <td>Le grand livre de la cuisine saine et facile</td>\n",
       "      <td>15,90</td>\n",
       "      <td>None</td>\n",
       "      <td>None</td>\n",
       "      <td>None</td>\n",
       "      <td>178</td>\n",
       "      <td>None</td>\n",
       "      <td>None</td>\n",
       "      <td>22.4 x 1.2 x 19.3 cm</td>\n",
       "      <td>None</td>\n",
       "      <td>None</td>\n",
       "      <td>4,4</td>\n",
       "      <td>18</td>\n",
       "      <td>https://www.amazon.fr//grand-livre-cuisine-sai...</td>\n",
       "    </tr>\n",
       "    <tr>\n",
       "      <th>...</th>\n",
       "      <td>...</td>\n",
       "      <td>...</td>\n",
       "      <td>...</td>\n",
       "      <td>...</td>\n",
       "      <td>...</td>\n",
       "      <td>...</td>\n",
       "      <td>...</td>\n",
       "      <td>...</td>\n",
       "      <td>...</td>\n",
       "      <td>...</td>\n",
       "      <td>...</td>\n",
       "      <td>...</td>\n",
       "      <td>...</td>\n",
       "      <td>...</td>\n",
       "    </tr>\n",
       "    <tr>\n",
       "      <th>180</th>\n",
       "      <td>Jeûne Intermittent et Régime Cétogène: 2 livre...</td>\n",
       "      <td>7,99</td>\n",
       "      <td>3,99</td>\n",
       "      <td>None</td>\n",
       "      <td>None</td>\n",
       "      <td>94</td>\n",
       "      <td>None</td>\n",
       "      <td>None</td>\n",
       "      <td>20.32 x 0.56 x 25.4 cm</td>\n",
       "      <td>None</td>\n",
       "      <td>None</td>\n",
       "      <td>3,8</td>\n",
       "      <td>89</td>\n",
       "      <td>https://www.amazon.fr//Je%C3%BBne-Intermittent...</td>\n",
       "    </tr>\n",
       "    <tr>\n",
       "      <th>181</th>\n",
       "      <td>Mon journal de suivi minceur: Cahier de suivi ...</td>\n",
       "      <td>7,99</td>\n",
       "      <td>None</td>\n",
       "      <td>None</td>\n",
       "      <td>None</td>\n",
       "      <td>100</td>\n",
       "      <td>None</td>\n",
       "      <td>None</td>\n",
       "      <td>21.59 x 0.58 x 27.94 cm</td>\n",
       "      <td>None</td>\n",
       "      <td>None</td>\n",
       "      <td>5,0</td>\n",
       "      <td>4</td>\n",
       "      <td>https://www.amazon.fr//Mon-journal-suivi-mince...</td>\n",
       "    </tr>\n",
       "    <tr>\n",
       "      <th>182</th>\n",
       "      <td>Recettes minceur - Tous en cuisine !</td>\n",
       "      <td>4,99</td>\n",
       "      <td>None</td>\n",
       "      <td>None</td>\n",
       "      <td>None</td>\n",
       "      <td>192</td>\n",
       "      <td>None</td>\n",
       "      <td>None</td>\n",
       "      <td>None</td>\n",
       "      <td>None</td>\n",
       "      <td>None</td>\n",
       "      <td>4,2</td>\n",
       "      <td>3</td>\n",
       "      <td>https://www.amazon.fr//Recettes-minceur-Tous-e...</td>\n",
       "    </tr>\n",
       "    <tr>\n",
       "      <th>183</th>\n",
       "      <td>Deliciously Ella : ma cuisine express pour man...</td>\n",
       "      <td>19,90</td>\n",
       "      <td>None</td>\n",
       "      <td>None</td>\n",
       "      <td>None</td>\n",
       "      <td>272</td>\n",
       "      <td>None</td>\n",
       "      <td>None</td>\n",
       "      <td>18.7 x 2.4 x 23 cm</td>\n",
       "      <td>None</td>\n",
       "      <td>None</td>\n",
       "      <td>4,5</td>\n",
       "      <td>2</td>\n",
       "      <td>https://www.amazon.fr//Deliciously-Ella-quotid...</td>\n",
       "    </tr>\n",
       "    <tr>\n",
       "      <th>184</th>\n",
       "      <td>cahier minceur: cahier minceur pour 90 jours s...</td>\n",
       "      <td>5,99</td>\n",
       "      <td>None</td>\n",
       "      <td>None</td>\n",
       "      <td>None</td>\n",
       "      <td>None</td>\n",
       "      <td>None</td>\n",
       "      <td>None</td>\n",
       "      <td>None</td>\n",
       "      <td>None</td>\n",
       "      <td>None</td>\n",
       "      <td>None</td>\n",
       "      <td>None</td>\n",
       "      <td>https://www.amazon.fr//cahier-minceur-reequili...</td>\n",
       "    </tr>\n",
       "  </tbody>\n",
       "</table>\n",
       "<p>185 rows × 14 columns</p>\n",
       "</div>"
      ],
      "text/plain": [
       "                                                Titres Prix Broché  \\\n",
       "0                        Recettes minceur au Thermomix        8,90   \n",
       "1    Calendrier 365 recettes légères Marmiton - L'A...       11,90   \n",
       "2         Recettes light inratables au robot cuiseur !        None   \n",
       "3    80 Recettes lights au Cookéo: Gardez la ligne ...        9,89   \n",
       "4         Le grand livre de la cuisine saine et facile       15,90   \n",
       "..                                                 ...         ...   \n",
       "180  Jeûne Intermittent et Régime Cétogène: 2 livre...        7,99   \n",
       "181  Mon journal de suivi minceur: Cahier de suivi ...        7,99   \n",
       "182               Recettes minceur - Tous en cuisine !        4,99   \n",
       "183  Deliciously Ella : ma cuisine express pour man...       19,90   \n",
       "184  cahier minceur: cahier minceur pour 90 jours s...        5,99   \n",
       "\n",
       "    Prix Kindle Prix Poche Prix Relié Nombre de pages Format Broché  \\\n",
       "0          None       None       None                           191   \n",
       "1          None       None       None                    2809658048   \n",
       "2         10,99       None      15,95                          None   \n",
       "3          4,90       None       None                            88   \n",
       "4          None       None       None                           178   \n",
       "..          ...        ...        ...                           ...   \n",
       "180        3,99       None       None                            94   \n",
       "181        None       None       None                           100   \n",
       "182        None       None       None                           192   \n",
       "183        None       None       None                           272   \n",
       "184        None       None       None                          None   \n",
       "\n",
       "    Nombre de pages Format Poche Nombre de pages Format Relié  \\\n",
       "0                           None                         None   \n",
       "1                           None                         None   \n",
       "2                           None                          208   \n",
       "3                           None                         None   \n",
       "4                           None                         None   \n",
       "..                           ...                          ...   \n",
       "180                         None                         None   \n",
       "181                         None                         None   \n",
       "182                         None                         None   \n",
       "183                         None                         None   \n",
       "184                         None                         None   \n",
       "\n",
       "    Dimensions Format Broché Dimensions Format Poche Dimensions Format Relié  \\\n",
       "0       19.2 x 1.8 x 20.1 cm                    None                    None   \n",
       "1           11 x 4.7 x 15 cm                    None                    None   \n",
       "2                       None                    None    20.2 x 2.8 x 26.7 cm   \n",
       "3    15.24 x 0.56 x 22.86 cm                    None                    None   \n",
       "4       22.4 x 1.2 x 19.3 cm                    None                    None   \n",
       "..                       ...                     ...                     ...   \n",
       "180   20.32 x 0.56 x 25.4 cm                    None                    None   \n",
       "181  21.59 x 0.58 x 27.94 cm                    None                    None   \n",
       "182                     None                    None                    None   \n",
       "183       18.7 x 2.4 x 23 cm                    None                    None   \n",
       "184                     None                    None                    None   \n",
       "\n",
       "    Evaluations (sur 5) Nombre d'évaluations  \\\n",
       "0                   4,0                   84   \n",
       "1                   4,2                   30   \n",
       "2                   4,4                  410   \n",
       "3                   4,2                  338   \n",
       "4                   4,4                   18   \n",
       "..                  ...                  ...   \n",
       "180                 3,8                   89   \n",
       "181                 5,0                    4   \n",
       "182                 4,2                    3   \n",
       "183                 4,5                    2   \n",
       "184                None                 None   \n",
       "\n",
       "                                                 Liens  \n",
       "0    https://www.amazon.fr//Recettes-minceur-au-The...  \n",
       "1    https://www.amazon.fr//Ann%C3%A9e-Bloc-recette...  \n",
       "2    https://www.amazon.fr//Recettes-light-inratabl...  \n",
       "3    https://www.amazon.fr//Recettes-lights-Cook%C3...  \n",
       "4    https://www.amazon.fr//grand-livre-cuisine-sai...  \n",
       "..                                                 ...  \n",
       "180  https://www.amazon.fr//Je%C3%BBne-Intermittent...  \n",
       "181  https://www.amazon.fr//Mon-journal-suivi-mince...  \n",
       "182  https://www.amazon.fr//Recettes-minceur-Tous-e...  \n",
       "183  https://www.amazon.fr//Deliciously-Ella-quotid...  \n",
       "184  https://www.amazon.fr//cahier-minceur-reequili...  \n",
       "\n",
       "[185 rows x 14 columns]"
      ]
     },
     "execution_count": 104,
     "metadata": {},
     "output_type": "execute_result"
    }
   ],
   "source": [
    "books_v1.insert(2, 'Prix Broché', prix['Prix Broché'])\n",
    "books_v1.insert(3, 'Prix Kindle', prix['Prix Kindle'])\n",
    "books_v1.insert(4, 'Prix Poche', prix['Prix Poche'])\n",
    "books_v1.insert(5, 'Prix Relié', prix['Prix Relié'])\n",
    "del books_v1['Format/Prix']\n",
    "books_v1"
   ]
  },
  {
   "cell_type": "code",
   "execution_count": 105,
   "metadata": {},
   "outputs": [],
   "source": [
    "# Convertir le nouveau tableau en fichier csv\n",
    "books_v1.to_csv(\"books_v1.csv\")"
   ]
  },
  {
   "cell_type": "markdown",
   "metadata": {},
   "source": [
    "## Partie 2 - Analyse des données"
   ]
  },
  {
   "cell_type": "code",
   "execution_count": 106,
   "metadata": {},
   "outputs": [],
   "source": [
    "import numpy as np\n",
    "import matplotlib.pyplot as plt"
   ]
  },
  {
   "cell_type": "markdown",
   "metadata": {},
   "source": [
    "#### Pour l'analyse, nous allons nous concentrer uniquement sur les livres les mieux notés, avec une note supérieur à 4/5"
   ]
  },
  {
   "cell_type": "code",
   "execution_count": 107,
   "metadata": {},
   "outputs": [
    {
     "data": {
      "text/html": [
       "<div>\n",
       "<style scoped>\n",
       "    .dataframe tbody tr th:only-of-type {\n",
       "        vertical-align: middle;\n",
       "    }\n",
       "\n",
       "    .dataframe tbody tr th {\n",
       "        vertical-align: top;\n",
       "    }\n",
       "\n",
       "    .dataframe thead th {\n",
       "        text-align: right;\n",
       "    }\n",
       "</style>\n",
       "<table border=\"1\" class=\"dataframe\">\n",
       "  <thead>\n",
       "    <tr style=\"text-align: right;\">\n",
       "      <th></th>\n",
       "      <th>Titres</th>\n",
       "      <th>Prix Broché</th>\n",
       "      <th>Prix Kindle</th>\n",
       "      <th>Prix Poche</th>\n",
       "      <th>Prix Relié</th>\n",
       "      <th>Nombre de pages Format Broché</th>\n",
       "      <th>Nombre de pages Format Poche</th>\n",
       "      <th>Nombre de pages Format Relié</th>\n",
       "      <th>Dimensions Format Broché</th>\n",
       "      <th>Dimensions Format Poche</th>\n",
       "      <th>Dimensions Format Relié</th>\n",
       "      <th>Evaluations (sur 5)</th>\n",
       "      <th>Nombre d'évaluations</th>\n",
       "      <th>Liens</th>\n",
       "    </tr>\n",
       "  </thead>\n",
       "  <tbody>\n",
       "    <tr>\n",
       "      <th>0</th>\n",
       "      <td>Recettes minceur au Thermomix</td>\n",
       "      <td>8,90</td>\n",
       "      <td>None</td>\n",
       "      <td>None</td>\n",
       "      <td>None</td>\n",
       "      <td>191</td>\n",
       "      <td>None</td>\n",
       "      <td>None</td>\n",
       "      <td>19.2 x 1.8 x 20.1 cm</td>\n",
       "      <td>None</td>\n",
       "      <td>None</td>\n",
       "      <td>4,0</td>\n",
       "      <td>84</td>\n",
       "      <td>https://www.amazon.fr//Recettes-minceur-au-The...</td>\n",
       "    </tr>\n",
       "    <tr>\n",
       "      <th>1</th>\n",
       "      <td>Calendrier 365 recettes légères Marmiton - L'A...</td>\n",
       "      <td>11,90</td>\n",
       "      <td>None</td>\n",
       "      <td>None</td>\n",
       "      <td>None</td>\n",
       "      <td>2809658048</td>\n",
       "      <td>None</td>\n",
       "      <td>None</td>\n",
       "      <td>11 x 4.7 x 15 cm</td>\n",
       "      <td>None</td>\n",
       "      <td>None</td>\n",
       "      <td>4,2</td>\n",
       "      <td>30</td>\n",
       "      <td>https://www.amazon.fr//Ann%C3%A9e-Bloc-recette...</td>\n",
       "    </tr>\n",
       "    <tr>\n",
       "      <th>2</th>\n",
       "      <td>Recettes light inratables au robot cuiseur !</td>\n",
       "      <td>None</td>\n",
       "      <td>10,99</td>\n",
       "      <td>None</td>\n",
       "      <td>15,95</td>\n",
       "      <td>None</td>\n",
       "      <td>None</td>\n",
       "      <td>208</td>\n",
       "      <td>None</td>\n",
       "      <td>None</td>\n",
       "      <td>20.2 x 2.8 x 26.7 cm</td>\n",
       "      <td>4,4</td>\n",
       "      <td>410</td>\n",
       "      <td>https://www.amazon.fr//Recettes-light-inratabl...</td>\n",
       "    </tr>\n",
       "    <tr>\n",
       "      <th>3</th>\n",
       "      <td>80 Recettes lights au Cookéo: Gardez la ligne ...</td>\n",
       "      <td>9,89</td>\n",
       "      <td>4,90</td>\n",
       "      <td>None</td>\n",
       "      <td>None</td>\n",
       "      <td>88</td>\n",
       "      <td>None</td>\n",
       "      <td>None</td>\n",
       "      <td>15.24 x 0.56 x 22.86 cm</td>\n",
       "      <td>None</td>\n",
       "      <td>None</td>\n",
       "      <td>4,2</td>\n",
       "      <td>338</td>\n",
       "      <td>https://www.amazon.fr//Recettes-lights-Cook%C3...</td>\n",
       "    </tr>\n",
       "    <tr>\n",
       "      <th>4</th>\n",
       "      <td>Le grand livre de la cuisine saine et facile</td>\n",
       "      <td>15,90</td>\n",
       "      <td>None</td>\n",
       "      <td>None</td>\n",
       "      <td>None</td>\n",
       "      <td>178</td>\n",
       "      <td>None</td>\n",
       "      <td>None</td>\n",
       "      <td>22.4 x 1.2 x 19.3 cm</td>\n",
       "      <td>None</td>\n",
       "      <td>None</td>\n",
       "      <td>4,4</td>\n",
       "      <td>18</td>\n",
       "      <td>https://www.amazon.fr//grand-livre-cuisine-sai...</td>\n",
       "    </tr>\n",
       "    <tr>\n",
       "      <th>...</th>\n",
       "      <td>...</td>\n",
       "      <td>...</td>\n",
       "      <td>...</td>\n",
       "      <td>...</td>\n",
       "      <td>...</td>\n",
       "      <td>...</td>\n",
       "      <td>...</td>\n",
       "      <td>...</td>\n",
       "      <td>...</td>\n",
       "      <td>...</td>\n",
       "      <td>...</td>\n",
       "      <td>...</td>\n",
       "      <td>...</td>\n",
       "      <td>...</td>\n",
       "    </tr>\n",
       "    <tr>\n",
       "      <th>105</th>\n",
       "      <td>Une journée dans mon assiette Vegan</td>\n",
       "      <td>None</td>\n",
       "      <td>14,99</td>\n",
       "      <td>None</td>\n",
       "      <td>19,95</td>\n",
       "      <td>None</td>\n",
       "      <td>None</td>\n",
       "      <td>192</td>\n",
       "      <td>None</td>\n",
       "      <td>None</td>\n",
       "      <td>20.3 x 2.3 x 23.9 cm</td>\n",
       "      <td>4,7</td>\n",
       "      <td>184</td>\n",
       "      <td>https://www.amazon.fr//Une-journ%C3%A9e-dans-a...</td>\n",
       "    </tr>\n",
       "    <tr>\n",
       "      <th>106</th>\n",
       "      <td>Smoothies et cie avec l'Ultrablend cook</td>\n",
       "      <td>9,95</td>\n",
       "      <td>7,99</td>\n",
       "      <td>None</td>\n",
       "      <td>None</td>\n",
       "      <td>168</td>\n",
       "      <td>None</td>\n",
       "      <td>None</td>\n",
       "      <td>23.4 x 1.8 x 18.5 cm</td>\n",
       "      <td>None</td>\n",
       "      <td>None</td>\n",
       "      <td>4,5</td>\n",
       "      <td>68</td>\n",
       "      <td>https://www.amazon.fr//Smoothies-cie-avec-lUlt...</td>\n",
       "    </tr>\n",
       "    <tr>\n",
       "      <th>107</th>\n",
       "      <td>Mon journal de suivi minceur: Cahier de suivi ...</td>\n",
       "      <td>7,99</td>\n",
       "      <td>None</td>\n",
       "      <td>None</td>\n",
       "      <td>None</td>\n",
       "      <td>100</td>\n",
       "      <td>None</td>\n",
       "      <td>None</td>\n",
       "      <td>21.59 x 0.58 x 27.94 cm</td>\n",
       "      <td>None</td>\n",
       "      <td>None</td>\n",
       "      <td>5,0</td>\n",
       "      <td>4</td>\n",
       "      <td>https://www.amazon.fr//Mon-journal-suivi-mince...</td>\n",
       "    </tr>\n",
       "    <tr>\n",
       "      <th>108</th>\n",
       "      <td>Recettes minceur - Tous en cuisine !</td>\n",
       "      <td>4,99</td>\n",
       "      <td>None</td>\n",
       "      <td>None</td>\n",
       "      <td>None</td>\n",
       "      <td>192</td>\n",
       "      <td>None</td>\n",
       "      <td>None</td>\n",
       "      <td>None</td>\n",
       "      <td>None</td>\n",
       "      <td>None</td>\n",
       "      <td>4,2</td>\n",
       "      <td>3</td>\n",
       "      <td>https://www.amazon.fr//Recettes-minceur-Tous-e...</td>\n",
       "    </tr>\n",
       "    <tr>\n",
       "      <th>109</th>\n",
       "      <td>Deliciously Ella : ma cuisine express pour man...</td>\n",
       "      <td>19,90</td>\n",
       "      <td>None</td>\n",
       "      <td>None</td>\n",
       "      <td>None</td>\n",
       "      <td>272</td>\n",
       "      <td>None</td>\n",
       "      <td>None</td>\n",
       "      <td>18.7 x 2.4 x 23 cm</td>\n",
       "      <td>None</td>\n",
       "      <td>None</td>\n",
       "      <td>4,5</td>\n",
       "      <td>2</td>\n",
       "      <td>https://www.amazon.fr//Deliciously-Ella-quotid...</td>\n",
       "    </tr>\n",
       "  </tbody>\n",
       "</table>\n",
       "<p>110 rows × 14 columns</p>\n",
       "</div>"
      ],
      "text/plain": [
       "                                                Titres Prix Broché  \\\n",
       "0                        Recettes minceur au Thermomix        8,90   \n",
       "1    Calendrier 365 recettes légères Marmiton - L'A...       11,90   \n",
       "2         Recettes light inratables au robot cuiseur !        None   \n",
       "3    80 Recettes lights au Cookéo: Gardez la ligne ...        9,89   \n",
       "4         Le grand livre de la cuisine saine et facile       15,90   \n",
       "..                                                 ...         ...   \n",
       "105                Une journée dans mon assiette Vegan        None   \n",
       "106            Smoothies et cie avec l'Ultrablend cook        9,95   \n",
       "107  Mon journal de suivi minceur: Cahier de suivi ...        7,99   \n",
       "108               Recettes minceur - Tous en cuisine !        4,99   \n",
       "109  Deliciously Ella : ma cuisine express pour man...       19,90   \n",
       "\n",
       "    Prix Kindle Prix Poche Prix Relié Nombre de pages Format Broché  \\\n",
       "0          None       None       None                           191   \n",
       "1          None       None       None                    2809658048   \n",
       "2         10,99       None      15,95                          None   \n",
       "3          4,90       None       None                            88   \n",
       "4          None       None       None                           178   \n",
       "..          ...        ...        ...                           ...   \n",
       "105       14,99       None      19,95                          None   \n",
       "106        7,99       None       None                           168   \n",
       "107        None       None       None                           100   \n",
       "108        None       None       None                           192   \n",
       "109        None       None       None                           272   \n",
       "\n",
       "    Nombre de pages Format Poche Nombre de pages Format Relié  \\\n",
       "0                           None                         None   \n",
       "1                           None                         None   \n",
       "2                           None                          208   \n",
       "3                           None                         None   \n",
       "4                           None                         None   \n",
       "..                           ...                          ...   \n",
       "105                         None                          192   \n",
       "106                         None                         None   \n",
       "107                         None                         None   \n",
       "108                         None                         None   \n",
       "109                         None                         None   \n",
       "\n",
       "    Dimensions Format Broché Dimensions Format Poche Dimensions Format Relié  \\\n",
       "0       19.2 x 1.8 x 20.1 cm                    None                    None   \n",
       "1           11 x 4.7 x 15 cm                    None                    None   \n",
       "2                       None                    None    20.2 x 2.8 x 26.7 cm   \n",
       "3    15.24 x 0.56 x 22.86 cm                    None                    None   \n",
       "4       22.4 x 1.2 x 19.3 cm                    None                    None   \n",
       "..                       ...                     ...                     ...   \n",
       "105                     None                    None    20.3 x 2.3 x 23.9 cm   \n",
       "106     23.4 x 1.8 x 18.5 cm                    None                    None   \n",
       "107  21.59 x 0.58 x 27.94 cm                    None                    None   \n",
       "108                     None                    None                    None   \n",
       "109       18.7 x 2.4 x 23 cm                    None                    None   \n",
       "\n",
       "    Evaluations (sur 5) Nombre d'évaluations  \\\n",
       "0                   4,0                   84   \n",
       "1                   4,2                   30   \n",
       "2                   4,4                  410   \n",
       "3                   4,2                  338   \n",
       "4                   4,4                   18   \n",
       "..                  ...                  ...   \n",
       "105                 4,7                  184   \n",
       "106                 4,5                   68   \n",
       "107                 5,0                    4   \n",
       "108                 4,2                    3   \n",
       "109                 4,5                    2   \n",
       "\n",
       "                                                 Liens  \n",
       "0    https://www.amazon.fr//Recettes-minceur-au-The...  \n",
       "1    https://www.amazon.fr//Ann%C3%A9e-Bloc-recette...  \n",
       "2    https://www.amazon.fr//Recettes-light-inratabl...  \n",
       "3    https://www.amazon.fr//Recettes-lights-Cook%C3...  \n",
       "4    https://www.amazon.fr//grand-livre-cuisine-sai...  \n",
       "..                                                 ...  \n",
       "105  https://www.amazon.fr//Une-journ%C3%A9e-dans-a...  \n",
       "106  https://www.amazon.fr//Smoothies-cie-avec-lUlt...  \n",
       "107  https://www.amazon.fr//Mon-journal-suivi-mince...  \n",
       "108  https://www.amazon.fr//Recettes-minceur-Tous-e...  \n",
       "109  https://www.amazon.fr//Deliciously-Ella-quotid...  \n",
       "\n",
       "[110 rows x 14 columns]"
      ]
     },
     "execution_count": 107,
     "metadata": {},
     "output_type": "execute_result"
    }
   ],
   "source": [
    "books_v2 = books_v1[(books_v1['Evaluations (sur 5)'] >= '4') & (books_v1['Evaluations (sur 5)'] != 'None')]\n",
    "books_v2 = books_v2.reset_index()\n",
    "del books_v2['index']\n",
    "books_v2"
   ]
  },
  {
   "cell_type": "markdown",
   "metadata": {},
   "source": [
    "### Titre"
   ]
  },
  {
   "cell_type": "code",
   "execution_count": 108,
   "metadata": {},
   "outputs": [
    {
     "data": {
      "text/plain": [
       "['recettes', 'minceur', 'thermomix', 'calendrier', 'recettes']"
      ]
     },
     "execution_count": 108,
     "metadata": {},
     "output_type": "execute_result"
    }
   ],
   "source": [
    "titres = books_v2['Titres']\n",
    "L = []\n",
    "for titre in titres:\n",
    "    elems = titre.split()\n",
    "    for elem in elems:\n",
    "        elem = elem.lower()\n",
    "        if len(elem) > 3 and elem not in ['dans', 'pour','avec', 'sans']:\n",
    "            L.append(elem)\n",
    "L[:5]"
   ]
  },
  {
   "cell_type": "code",
   "execution_count": 109,
   "metadata": {},
   "outputs": [],
   "source": [
    "from collections import Counter"
   ]
  },
  {
   "cell_type": "code",
   "execution_count": 110,
   "metadata": {},
   "outputs": [
    {
     "data": {
      "text/plain": [
       "[('recettes', 75),\n",
       " ('cuisine', 20),\n",
       " ('minceur', 17),\n",
       " ('livre', 9),\n",
       " ('cahier', 9),\n",
       " ('régime', 9),\n",
       " ('carnet', 9),\n",
       " ('suivi', 8),\n",
       " ('light', 7),\n",
       " ('facile', 7),\n",
       " ('alimentaire', 7),\n",
       " ('bowl', 6),\n",
       " ('plats', 6),\n",
       " ('faciles', 6),\n",
       " ('semaine', 6),\n",
       " ('thermomix', 5),\n",
       " ('super', 5),\n",
       " ('votre', 5),\n",
       " ('monde', 5),\n",
       " ('légères', 4)]"
      ]
     },
     "execution_count": 110,
     "metadata": {},
     "output_type": "execute_result"
    }
   ],
   "source": [
    "# Classement des 20 mots les plus utilisés pour les titres: (mot, nombre d'occurences)\n",
    "Counter(L).most_common(20)"
   ]
  },
  {
   "cell_type": "markdown",
   "metadata": {},
   "source": [
    "### Prix moyen et median par type de format"
   ]
  },
  {
   "cell_type": "markdown",
   "metadata": {},
   "source": [
    "##### Combien de livres proposent un format Broché"
   ]
  },
  {
   "cell_type": "code",
   "execution_count": 111,
   "metadata": {},
   "outputs": [
    {
     "name": "stdout",
     "output_type": "stream",
     "text": [
      "Le nombre de livres en format broché est de: 85.\n",
      "Ainsi, 77% des livres proposent ce format.\n"
     ]
    }
   ],
   "source": [
    "nb_livres_broché = len(books_v2[books_v2['Prix Broché'] != 'None']['Prix Broché'])\n",
    "print('Le nombre de livres en format broché est de: ' + str(nb_livres_broché) +'.')\n",
    "print('Ainsi, ' + str(int((nb_livres_broché*100)/110)) + '% des livres proposent ce format.')"
   ]
  },
  {
   "cell_type": "markdown",
   "metadata": {},
   "source": [
    "###### Prix moyen et median pour le format physique Broché"
   ]
  },
  {
   "cell_type": "code",
   "execution_count": 112,
   "metadata": {},
   "outputs": [],
   "source": [
    "prix_broché = []\n",
    "for prix in books_v2[books_v2['Prix Broché'] != 'None']['Prix Broché']:\n",
    "    prix_broché.append(float(prix.replace(',', '.')))"
   ]
  },
  {
   "cell_type": "code",
   "execution_count": 113,
   "metadata": {},
   "outputs": [
    {
     "data": {
      "text/plain": [
       "<matplotlib.axes._subplots.AxesSubplot at 0x7fcf3d251e50>"
      ]
     },
     "execution_count": 113,
     "metadata": {},
     "output_type": "execute_result"
    },
    {
     "data": {
      "image/png": "[encoded data removed]",
      "text/plain": [
       "<Figure size 432x288 with 1 Axes>"
      ]
     },
     "metadata": {
      "needs_background": "light"
     },
     "output_type": "display_data"
    }
   ],
   "source": [
    "mean = np.mean(prix_broché)\n",
    "median = np.median(prix_broché)\n",
    "df = pd.DataFrame({'Valeurs':['Moyenne', 'Médiane'], 'Prix en €':[mean, median]})\n",
    "df.plot.bar(x='Valeurs', y='Prix en €', color='orange')"
   ]
  },
  {
   "cell_type": "code",
   "execution_count": 114,
   "metadata": {},
   "outputs": [
    {
     "name": "stdout",
     "output_type": "stream",
     "text": [
      "Le prix minimum est de: 3.5€\n",
      "Le prix maximum est de: 37.78€\n",
      "-------------------------\n",
      "Le prix moyen est de: 12.48€\n",
      "Le prix median est de: 9.95€\n"
     ]
    }
   ],
   "source": [
    "print('Le prix minimum est de:', str(min(prix_broché)) + '€')\n",
    "print('Le prix maximum est de:', str(max(prix_broché)) + '€')\n",
    "print('-------------------------')\n",
    "print('Le prix moyen est de:', str(round(mean, 2)) + '€')\n",
    "print('Le prix median est de:', str(median) + '€')"
   ]
  },
  {
   "cell_type": "markdown",
   "metadata": {},
   "source": [
    "# ----------------------------------------------------------------------------------------"
   ]
  },
  {
   "cell_type": "markdown",
   "metadata": {},
   "source": [
    "##### Combien de livres proposent un format Kindle"
   ]
  },
  {
   "cell_type": "code",
   "execution_count": 115,
   "metadata": {},
   "outputs": [
    {
     "name": "stdout",
     "output_type": "stream",
     "text": [
      "Le nombre de livres en format kindle est de: 54.\n",
      "Ainsi, 49% des livres proposent ce format.\n"
     ]
    }
   ],
   "source": [
    "nb_livres_kindle = len(books_v2[books_v2['Prix Kindle'] != 'None']['Prix Kindle'])\n",
    "print('Le nombre de livres en format kindle est de: ' + str(nb_livres_kindle) +'.')\n",
    "print('Ainsi, ' + str(int((nb_livres_kindle*100)/110)) + '% des livres proposent ce format.')"
   ]
  },
  {
   "cell_type": "markdown",
   "metadata": {},
   "source": [
    "###### Prix moyen et median pour le format numérique Kindle"
   ]
  },
  {
   "cell_type": "code",
   "execution_count": 116,
   "metadata": {},
   "outputs": [],
   "source": [
    "prix_kindle = []\n",
    "for prix in books_v2[books_v2['Prix Kindle'] != 'None']['Prix Kindle']:\n",
    "    prix_kindle.append(float(prix.replace(',', '.')))"
   ]
  },
  {
   "cell_type": "code",
   "execution_count": 117,
   "metadata": {},
   "outputs": [
    {
     "data": {
      "text/plain": [
       "<matplotlib.axes._subplots.AxesSubplot at 0x7fcf3b6db670>"
      ]
     },
     "execution_count": 117,
     "metadata": {},
     "output_type": "execute_result"
    },
    {
     "data": {
      "image/png": "[encoded data removed]",
      "text/plain": [
       "<Figure size 432x288 with 1 Axes>"
      ]
     },
     "metadata": {
      "needs_background": "light"
     },
     "output_type": "display_data"
    }
   ],
   "source": [
    "mean = np.mean(prix_kindle)\n",
    "median = np.median(prix_kindle)\n",
    "df = pd.DataFrame({'Valeurs':['Moyenne', 'Médiane'], 'Prix en €':[mean, median]})\n",
    "df.plot.bar(x='Valeurs', y='Prix en €', color='orange')"
   ]
  },
  {
   "cell_type": "code",
   "execution_count": 118,
   "metadata": {},
   "outputs": [
    {
     "name": "stdout",
     "output_type": "stream",
     "text": [
      "Le prix minimum est de: 1.99€\n",
      "Le prix maximum est de: 28.99€\n",
      "-------------------------\n",
      "Le prix moyen est de: 9.81€\n",
      "Le prix median est de: 7.99€\n"
     ]
    }
   ],
   "source": [
    "print('Le prix minimum est de:', str(min(prix_kindle)) + '€')\n",
    "print('Le prix maximum est de:', str(max(prix_kindle)) + '€')\n",
    "print('-------------------------')\n",
    "print('Le prix moyen est de:', str(round(mean, 2)) + '€')\n",
    "print('Le prix median est de:', str(median) + '€')"
   ]
  },
  {
   "cell_type": "markdown",
   "metadata": {},
   "source": [
    "# ----------------------------------------------------------------------------------------"
   ]
  },
  {
   "cell_type": "markdown",
   "metadata": {},
   "source": [
    "##### Combien de livres proposent un format Poche"
   ]
  },
  {
   "cell_type": "code",
   "execution_count": 119,
   "metadata": {},
   "outputs": [
    {
     "name": "stdout",
     "output_type": "stream",
     "text": [
      "Le nombre de livres en format poche est de: 7.\n",
      "Ainsi, 6% des livres proposent ce format.\n"
     ]
    }
   ],
   "source": [
    "nb_livres_poche = len(books_v2[books_v2['Prix Poche'] != 'None']['Prix Poche'])\n",
    "print('Le nombre de livres en format poche est de: ' + str(nb_livres_poche) +'.')\n",
    "print('Ainsi, ' + str(int((nb_livres_poche*100)/110)) + '% des livres proposent ce format.')"
   ]
  },
  {
   "cell_type": "markdown",
   "metadata": {},
   "source": [
    "###### Prix moyen et median pour le format physique Poche"
   ]
  },
  {
   "cell_type": "code",
   "execution_count": 120,
   "metadata": {},
   "outputs": [],
   "source": [
    "prix_poche = []\n",
    "for prix in books_v2[books_v2['Prix Poche'] != 'None']['Prix Poche']:\n",
    "    prix_poche.append(float(prix.replace(',', '.')))"
   ]
  },
  {
   "cell_type": "code",
   "execution_count": 121,
   "metadata": {},
   "outputs": [
    {
     "data": {
      "text/plain": [
       "<matplotlib.axes._subplots.AxesSubplot at 0x7fcf399b9250>"
      ]
     },
     "execution_count": 121,
     "metadata": {},
     "output_type": "execute_result"
    },
    {
     "data": {
      "image/png": "[encoded data removed]",
      "text/plain": [
       "<Figure size 432x288 with 1 Axes>"
      ]
     },
     "metadata": {
      "needs_background": "light"
     },
     "output_type": "display_data"
    }
   ],
   "source": [
    "mean = np.mean(prix_poche)\n",
    "median = np.median(prix_poche)\n",
    "df = pd.DataFrame({'Valeurs':['Moyenne', 'Médiane'], 'Prix en €':[mean, median]})\n",
    "df.plot.bar(x='Valeurs', y='Prix en €', color='orange')"
   ]
  },
  {
   "cell_type": "code",
   "execution_count": 122,
   "metadata": {},
   "outputs": [
    {
     "name": "stdout",
     "output_type": "stream",
     "text": [
      "Le prix minimum est de: 6.0€\n",
      "Le prix maximum est de: 68.17€\n",
      "-------------------------\n",
      "Le prix moyen est de: 19.75€\n",
      "Le prix median est de: 12.0€\n"
     ]
    }
   ],
   "source": [
    "print('Le prix minimum est de:', str(min(prix_poche)) + '€')\n",
    "print('Le prix maximum est de:', str(max(prix_poche)) + '€')\n",
    "print('-------------------------')\n",
    "print('Le prix moyen est de:', str(round(mean, 2)) + '€')\n",
    "print('Le prix median est de:', str(median) + '€')"
   ]
  },
  {
   "cell_type": "markdown",
   "metadata": {},
   "source": [
    "# ----------------------------------------------------------------------------------------"
   ]
  },
  {
   "cell_type": "markdown",
   "metadata": {},
   "source": [
    "##### Combien de livres proposent un format Relié"
   ]
  },
  {
   "cell_type": "code",
   "execution_count": 123,
   "metadata": {},
   "outputs": [
    {
     "name": "stdout",
     "output_type": "stream",
     "text": [
      "Le nombre de livres en format relié est de: 23.\n",
      "Ainsi, 20% des livres proposent ce format.\n"
     ]
    }
   ],
   "source": [
    "nb_livres_relié = len(books_v2[books_v2['Prix Relié'] != 'None']['Prix Relié'])\n",
    "print('Le nombre de livres en format relié est de: ' + str(nb_livres_relié) +'.')\n",
    "print('Ainsi, ' + str(int((nb_livres_relié*100)/110)) + '% des livres proposent ce format.')"
   ]
  },
  {
   "cell_type": "markdown",
   "metadata": {},
   "source": [
    "###### Prix moyen et median pour le format physique Relié"
   ]
  },
  {
   "cell_type": "code",
   "execution_count": 124,
   "metadata": {},
   "outputs": [],
   "source": [
    "prix_relié = []\n",
    "for prix in books_v2[books_v2['Prix Relié'] != 'None']['Prix Relié']:\n",
    "    prix_relié.append(float(prix.replace(',', '.')))"
   ]
  },
  {
   "cell_type": "code",
   "execution_count": 125,
   "metadata": {},
   "outputs": [
    {
     "data": {
      "text/plain": [
       "<matplotlib.axes._subplots.AxesSubplot at 0x7fcf3b7b9880>"
      ]
     },
     "execution_count": 125,
     "metadata": {},
     "output_type": "execute_result"
    },
    {
     "data": {
      "image/png": "[encoded data removed]",
      "text/plain": [
       "<Figure size 432x288 with 1 Axes>"
      ]
     },
     "metadata": {
      "needs_background": "light"
     },
     "output_type": "display_data"
    }
   ],
   "source": [
    "mean = np.mean(prix_relié)\n",
    "median = np.median(prix_relié)\n",
    "df = pd.DataFrame({'Valeurs':['Moyenne', 'Médiane'], 'Prix en €':[mean, median]})\n",
    "df.plot.bar(x='Valeurs', y='Prix en €', color='orange')"
   ]
  },
  {
   "cell_type": "code",
   "execution_count": 126,
   "metadata": {},
   "outputs": [
    {
     "name": "stdout",
     "output_type": "stream",
     "text": [
      "Le prix minimum est de: 7.95€\n",
      "Le prix maximum est de: 29.95€\n",
      "-------------------------\n",
      "Le prix moyen est de: 17.39€\n",
      "Le prix median est de: 16.95€\n"
     ]
    }
   ],
   "source": [
    "print('Le prix minimum est de:', str(min(prix_relié)) + '€')\n",
    "print('Le prix maximum est de:', str(max(prix_relié)) + '€')\n",
    "print('-------------------------')\n",
    "print('Le prix moyen est de:', str(round(mean, 2)) + '€')\n",
    "print('Le prix median est de:', str(median) + '€')"
   ]
  },
  {
   "cell_type": "markdown",
   "metadata": {},
   "source": [
    "### Classement des dimensions des formats physiques"
   ]
  },
  {
   "cell_type": "code",
   "execution_count": 127,
   "metadata": {},
   "outputs": [],
   "source": [
    "def get_each_dimension_parameters(dimensions):\n",
    "    longueur, largeur, hauteur = [], [], []\n",
    "    for dimension in dimensions:\n",
    "        dim = dimension.split('x')\n",
    "        if len(dim) == 3:\n",
    "            longueur.append(float(dim[0].strip()))\n",
    "            largeur.append(float(dim[1].strip()))\n",
    "            hauteur.append(float(dim[2].replace('cm', '').strip()))\n",
    "    return longueur, largeur, hauteur"
   ]
  },
  {
   "cell_type": "markdown",
   "metadata": {},
   "source": [
    "#### Dimension moyen et median pour le format Broché"
   ]
  },
  {
   "cell_type": "code",
   "execution_count": 128,
   "metadata": {},
   "outputs": [
    {
     "data": {
      "text/plain": [
       "18.5 x 1.5 x 23.5 cm       3\n",
       "19.05 x 0.64 x 23.5 cm     3\n",
       "21.59 x 0.61 x 27.94 cm    2\n",
       "19.2 x 1.8 x 20.1 cm       2\n",
       "17.8 x 1.5 x 11 cm         2\n",
       "Name: Dimensions Format Broché, dtype: int64"
      ]
     },
     "execution_count": 128,
     "metadata": {},
     "output_type": "execute_result"
    }
   ],
   "source": [
    "# Top 5 des dimensions les plus utilisées : (dimensions, occurences)\n",
    "dimensions = books_v2[books_v2['Dimensions Format Broché'] != 'None']['Dimensions Format Broché']\n",
    "dimensions.value_counts()[:5]"
   ]
  },
  {
   "cell_type": "code",
   "execution_count": 129,
   "metadata": {},
   "outputs": [],
   "source": [
    "longueurs = get_each_dimension_parameters(dimensions)[0]\n",
    "largeurs = get_each_dimension_parameters(dimensions)[1]\n",
    "hauteurs = get_each_dimension_parameters(dimensions)[2]"
   ]
  },
  {
   "cell_type": "code",
   "execution_count": 130,
   "metadata": {},
   "outputs": [
    {
     "name": "stdout",
     "output_type": "stream",
     "text": [
      "le format moyen est donc: 18.09 x 1.76 x 21.7 cm\n",
      "------------------------------\n",
      "le format median est donc: 18.3 x 1.5 x 22.86 cm\n"
     ]
    }
   ],
   "source": [
    "# On peut ainsi avoir le format moyen et median\n",
    "print(\"le format moyen est donc: \" + str(round(np.mean(longueurs), 2)) + \" x \" + str(round(np.mean(largeurs),2)) + \" x \" + str(round(np.mean(hauteurs),2)) + \" cm\")\n",
    "print('------------------------------')\n",
    "print(\"le format median est donc: \" + str(round(np.median(longueurs), 2)) + \" x \" + str(round(np.median(largeurs),2)) + \" x \" + str(round(np.median(hauteurs),2)) + \" cm\")  "
   ]
  },
  {
   "cell_type": "markdown",
   "metadata": {},
   "source": [
    "# ----------------------------------------------------------------------------------------"
   ]
  },
  {
   "cell_type": "markdown",
   "metadata": {},
   "source": [
    "#### Dimension moyen et median pour le format Poche"
   ]
  },
  {
   "cell_type": "code",
   "execution_count": 131,
   "metadata": {},
   "outputs": [
    {
     "data": {
      "text/plain": [
       "LEDUC.S (1 janvier 1905)    1\n",
       "16 x 0.8 x 22 cm            1\n",
       "21 x 1.2 x 21 cm            1\n",
       "Name: Dimensions Format Poche, dtype: int64"
      ]
     },
     "execution_count": 131,
     "metadata": {},
     "output_type": "execute_result"
    }
   ],
   "source": [
    "# Top 5 des dimensions les plus utilisées : (dimensions, occurences)\n",
    "dimensions = books_v2[(books_v2['Dimensions Format Poche'] != 'None') & (books_v2['Dimensions Format Poche'] != 'Leduc.S (1 janvier 2018)')]['Dimensions Format Poche']\n",
    "dimensions.value_counts()[:3]"
   ]
  },
  {
   "cell_type": "code",
   "execution_count": 132,
   "metadata": {},
   "outputs": [],
   "source": [
    "longueurs = get_each_dimension_parameters(dimensions)[0]\n",
    "largeurs = get_each_dimension_parameters(dimensions)[1]\n",
    "hauteurs = get_each_dimension_parameters(dimensions)[2]"
   ]
  },
  {
   "cell_type": "code",
   "execution_count": 133,
   "metadata": {},
   "outputs": [
    {
     "name": "stdout",
     "output_type": "stream",
     "text": [
      "le format moyen est donc: 18.36 x 1.3 x 17.66 cm\n",
      "------------------------------\n",
      "le format median est donc: 17.8 x 1.3 x 17.8 cm\n"
     ]
    }
   ],
   "source": [
    "# On peut ainsi avoir le format moyen et median\n",
    "print(\"le format moyen est donc: \" + str(round(np.mean(longueurs), 2)) + \" x \" + str(round(np.mean(largeurs),2)) + \" x \" + str(round(np.mean(hauteurs),2)) + \" cm\")\n",
    "print('------------------------------')\n",
    "print(\"le format median est donc: \" + str(round(np.median(longueurs), 2)) + \" x \" + str(round(np.median(largeurs),2)) + \" x \" + str(round(np.median(hauteurs),2)) + \" cm\")  "
   ]
  },
  {
   "cell_type": "markdown",
   "metadata": {},
   "source": [
    "# ----------------------------------------------------------------------------------------"
   ]
  },
  {
   "cell_type": "markdown",
   "metadata": {},
   "source": [
    "#### Dimension moyen et median pour le format Relié"
   ]
  },
  {
   "cell_type": "code",
   "execution_count": 134,
   "metadata": {},
   "outputs": [
    {
     "data": {
      "text/plain": [
       "13 x 2 x 19 cm          1\n",
       "21.5 x 1.2 x 21.5 cm    1\n",
       "18.7 x 1.8 x 22.8 cm    1\n",
       "Name: Dimensions Format Relié, dtype: int64"
      ]
     },
     "execution_count": 134,
     "metadata": {},
     "output_type": "execute_result"
    }
   ],
   "source": [
    "# Top 5 des dimensions les plus utilisées : (dimensions, occurences)\n",
    "dimensions = books_v2[books_v2['Dimensions Format Relié'] != 'None']['Dimensions Format Relié']\n",
    "dimensions.value_counts()[:3]"
   ]
  },
  {
   "cell_type": "code",
   "execution_count": 135,
   "metadata": {},
   "outputs": [],
   "source": [
    "longueurs = get_each_dimension_parameters(dimensions)[0]\n",
    "largeurs = get_each_dimension_parameters(dimensions)[1]\n",
    "hauteurs = get_each_dimension_parameters(dimensions)[2]"
   ]
  },
  {
   "cell_type": "code",
   "execution_count": 136,
   "metadata": {},
   "outputs": [
    {
     "name": "stdout",
     "output_type": "stream",
     "text": [
      "le format moyen est donc: 19.44 x 2.6 x 24.34 cm\n",
      "------------------------------\n",
      "le format median est donc: 20.2 x 2.3 x 25.5 cm\n"
     ]
    }
   ],
   "source": [
    "# On peut ainsi avoir le format moyen et median\n",
    "print(\"le format moyen est donc: \" + str(round(np.mean(longueurs), 2)) + \" x \" + str(round(np.mean(largeurs),2)) + \" x \" + str(round(np.mean(hauteurs),2)) + \" cm\")\n",
    "print('------------------------------')\n",
    "print(\"le format median est donc: \" + str(round(np.median(longueurs), 2)) + \" x \" + str(round(np.median(largeurs),2)) + \" x \" + str(round(np.median(hauteurs),2)) + \" cm\")  "
   ]
  }
 ],
 "metadata": {
  "kernelspec": {
   "display_name": "Python 3",
   "language": "python",
   "name": "python3"
  },
  "language_info": {
   "codemirror_mode": {
    "name": "ipython",
    "version": 3
   },
   "file_extension": ".py",
   "mimetype": "text/x-python",
   "name": "python",
   "nbconvert_exporter": "python",
   "pygments_lexer": "ipython3",
   "version": "3.8.3"
  }
 },
 "nbformat": 4,
 "nbformat_minor": 4
}
